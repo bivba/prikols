{
 "cells": [
  {
   "cell_type": "code",
   "execution_count": 2,
   "metadata": {},
   "outputs": [],
   "source": [
    "from PyPDF2 import PdfMerger\n",
    "import os\n",
    "merge = PdfMerger()"
   ]
  },
  {
   "cell_type": "code",
   "execution_count": 5,
   "metadata": {},
   "outputs": [],
   "source": [
    "files = os.listdir('./')"
   ]
  },
  {
   "cell_type": "code",
   "execution_count": 6,
   "metadata": {},
   "outputs": [
    {
     "data": {
      "text/plain": [
       "['005979fa741c3ea2e0430456b70caf93_MIT8_05F13_Chap_05.pdf',\n",
       " '01b09433137651bedbbfe4f039b0c5be_MIT8_04S16_LecNotes10.pdf',\n",
       " '04b0570b349e84d74129eef504498472_MIT8_05F13_Chap_03.pdf',\n",
       " '0c07cbdc9c352c39eb9539b31ded90d7_MIT8_04S16_LecNotes4.pdf',\n",
       " '3b4ee73bda5abd93cbb2a89ae9b6765b_MIT8_04S16_LecNotes14_15.pdf',\n",
       " '4de6d044fa9d7e5b8998c5f8ca984a42_MIT8_05F13_Chap_04.pdf',\n",
       " '61bc31b8d8bf0680c322733910a71aa0_MIT8_05F13_Chap_01.pdf',\n",
       " '7c376a3b5b27e5ea586a7e37b85a05d3_MIT8_05F13_Chap_07.pdf',\n",
       " '7f930e013cef9cd7dec5aa88baa83f0a_MIT8_04S16_LecNotes1.pdf',\n",
       " 'a56c316e4ec548d8bd0a554fac9a74e8_MIT8_05F13_Chap_02.pdf',\n",
       " 'afaef4b8271759d352ac75c4e85eaee6_MIT8_04S16_LecNotes2.pdf',\n",
       " 'd87c768c4e1181fde8d4366112169719_MIT8_04S16_LecNotes6.pdf',\n",
       " 'e34ceed6a6ec944a3c761fcbbf48be5f_MIT8_04S16_LecNotes22.pdf',\n",
       " 'e765f050b2fd50a9d87d2ae801e9c52f_MIT8_05F13_Chap_09.pdf',\n",
       " 'f928b8dce3d6a218fddda9617c5eb4f2_MIT8_04S16_LecNotes3.pdf',\n",
       " 'ffe665c0cba2eae19a83e88dec42925c_MIT8_05F13_Chap_08.pdf',\n",
       " 'Peter Lee - Quantum Computing and Information - 2024.pdf',\n",
       " 'да.pdf']"
      ]
     },
     "execution_count": 6,
     "metadata": {},
     "output_type": "execute_result"
    }
   ],
   "source": [
    "files"
   ]
  },
  {
   "cell_type": "code",
   "execution_count": 7,
   "metadata": {},
   "outputs": [],
   "source": [
    "for file in files:\n",
    "    merge.append(file)\n",
    "merge.write('merged.pdf')"
   ]
  },
  {
   "cell_type": "code",
   "execution_count": 9,
   "metadata": {},
   "outputs": [],
   "source": [
    "from PyPDF2 import PdfReader\n",
    "reader = PdfReader('merged.pdf')"
   ]
  },
  {
   "cell_type": "code",
   "execution_count": 10,
   "metadata": {},
   "outputs": [],
   "source": [
    "extracted_text = \"\"\n",
    "for page in reader.pages:\n",
    "    extracted_text += page.extract_text()"
   ]
  },
  {
   "cell_type": "code",
   "execution_count": null,
   "metadata": {},
   "outputs": [
    {
     "name": "stdout",
     "output_type": "stream",
     "text": [
      "page 0 of ./a/asnw.pdf\n",
      "page 1 of ./a/asnw.pdf\n",
      "page 2 of ./a/asnw.pdf\n",
      "page 3 of ./a/asnw.pdf\n",
      "page 4 of ./a/asnw.pdf\n",
      "page 5 of ./a/asnw.pdf\n",
      "page 6 of ./a/asnw.pdf\n",
      "page 7 of ./a/asnw.pdf\n",
      "page 8 of ./a/asnw.pdf\n",
      "page 9 of ./a/asnw.pdf\n",
      "page 10 of ./a/asnw.pdf\n",
      "page 11 of ./a/asnw.pdf\n",
      "Text extracted and saved to ./a/asnw_text.txt\n"
     ]
    }
   ],
   "source": [
    "import fitz\n",
    "\n",
    "pdf_path = \"./a/asnw.pdf\"\n",
    "\n",
    "pdf_document = fitz.open(pdf_path)\n",
    "\n",
    "output_file = \"./a/asnw_text.txt\"\n",
    "with open(output_file, \"w\", encoding=\"utf-8\") as file:\n",
    "    for page_number in range(len(pdf_document)):\n",
    "        page = pdf_document[page_number]\n",
    "        text = page.get_text(\"text\")\n",
    "        file.write(text)\n",
    "        file.write(\"\\n\\n\")\n",
    "\n",
    "print(f\"Text extracted and saved to {output_file}\")"
   ]
  },
  {
   "cell_type": "code",
   "execution_count": 12,
   "metadata": {},
   "outputs": [
    {
     "name": "stderr",
     "output_type": "stream",
     "text": [
      "Xref table not zero-indexed. ID numbers for objects will be corrected.\n",
      "Xref table not zero-indexed. ID numbers for objects will be corrected.\n",
      "Xref table not zero-indexed. ID numbers for objects will be corrected.\n"
     ]
    }
   ],
   "source": [
    "merge = PdfMerger('./a')\n",
    "files = os.listdir('./a')\n",
    "for file in files:\n",
    "    merge.append('./a/' + file)\n",
    "merge.write('./a/' + 'asnw.pdf')"
   ]
  },
  {
   "cell_type": "code",
   "execution_count": 3,
   "metadata": {},
   "outputs": [],
   "source": [
    "import pytesseract\n",
    "from PIL import Image\n",
    "\n",
    "def ocr_extract_text_from_image(image_path):\n",
    "    img = Image.open(image_path)\n",
    "    text = pytesseract.image_to_string(img)\n",
    "    return text"
   ]
  },
  {
   "cell_type": "code",
   "execution_count": 23,
   "metadata": {},
   "outputs": [
    {
     "data": {
      "text/plain": [
       "90"
      ]
     },
     "execution_count": 23,
     "metadata": {},
     "output_type": "execute_result"
    }
   ],
   "source": [
    "questions = []\n",
    "s = ''\n",
    "with open('./q/quest.txt', encoding='utf-8') as f:\n",
    "    for line in f:\n",
    "        if line != '\\n':\n",
    "            s += line\n",
    "        else:\n",
    "            questions.append(s[3:])\n",
    "            s = ''\n",
    "questions.append(s[3:])\n",
    "len(questions)"
   ]
  },
  {
   "cell_type": "code",
   "execution_count": 2,
   "metadata": {},
   "outputs": [
    {
     "data": {
      "application/vnd.jupyter.widget-view+json": {
       "model_id": "c7d47a9fe17342f09e7d039ee9fd1afd",
       "version_major": 2,
       "version_minor": 0
      },
      "text/plain": [
       "README.md:   0%|          | 0.00/473 [00:00<?, ?B/s]"
      ]
     },
     "metadata": {},
     "output_type": "display_data"
    },
    {
     "name": "stderr",
     "output_type": "stream",
     "text": [
      "c:\\Users\\danil\\AppData\\Local\\Programs\\Python\\Python312\\Lib\\site-packages\\huggingface_hub\\file_download.py:139: UserWarning: `huggingface_hub` cache-system uses symlinks by default to efficiently store duplicated files but your machine does not support them in C:\\Users\\danil\\.cache\\huggingface\\hub\\datasets--jilp00--YouToks-Instruct-Quantum-Physics-I. Caching files will still work but in a degraded version that might require more space on your disk. This warning can be disabled by setting the `HF_HUB_DISABLE_SYMLINKS_WARNING` environment variable. For more details, see https://huggingface.co/docs/huggingface_hub/how-to-cache#limitations.\n",
      "To support symlinks on Windows, you either need to activate Developer Mode or to run Python as an administrator. In order to activate developer mode, see this article: https://docs.microsoft.com/en-us/windows/apps/get-started/enable-your-device-for-development\n",
      "  warnings.warn(message)\n"
     ]
    },
    {
     "data": {
      "application/vnd.jupyter.widget-view+json": {
       "model_id": "8dd70133d371423b9cbf6aeecc7e368a",
       "version_major": 2,
       "version_minor": 0
      },
      "text/plain": [
       "train-00000-of-00001.parquet:   0%|          | 0.00/1.12M [00:00<?, ?B/s]"
      ]
     },
     "metadata": {},
     "output_type": "display_data"
    },
    {
     "data": {
      "application/vnd.jupyter.widget-view+json": {
       "model_id": "9f979f082faa420185f72902f6242f42",
       "version_major": 2,
       "version_minor": 0
      },
      "text/plain": [
       "Generating train split:   0%|          | 0/942 [00:00<?, ? examples/s]"
      ]
     },
     "metadata": {},
     "output_type": "display_data"
    },
    {
     "data": {
      "application/vnd.jupyter.widget-view+json": {
       "model_id": "508da665604142b2855d25b88ed10280",
       "version_major": 2,
       "version_minor": 0
      },
      "text/plain": [
       "README.md:   0%|          | 0.00/473 [00:00<?, ?B/s]"
      ]
     },
     "metadata": {},
     "output_type": "display_data"
    },
    {
     "name": "stderr",
     "output_type": "stream",
     "text": [
      "c:\\Users\\danil\\AppData\\Local\\Programs\\Python\\Python312\\Lib\\site-packages\\huggingface_hub\\file_download.py:139: UserWarning: `huggingface_hub` cache-system uses symlinks by default to efficiently store duplicated files but your machine does not support them in C:\\Users\\danil\\.cache\\huggingface\\hub\\datasets--jilp00--YouToks-Instruct-Quantum-Physics-II. Caching files will still work but in a degraded version that might require more space on your disk. This warning can be disabled by setting the `HF_HUB_DISABLE_SYMLINKS_WARNING` environment variable. For more details, see https://huggingface.co/docs/huggingface_hub/how-to-cache#limitations.\n",
      "To support symlinks on Windows, you either need to activate Developer Mode or to run Python as an administrator. In order to activate developer mode, see this article: https://docs.microsoft.com/en-us/windows/apps/get-started/enable-your-device-for-development\n",
      "  warnings.warn(message)\n"
     ]
    },
    {
     "data": {
      "application/vnd.jupyter.widget-view+json": {
       "model_id": "36600677293348cc92b6c8b5cc0cc1ae",
       "version_major": 2,
       "version_minor": 0
      },
      "text/plain": [
       "train-00000-of-00001.parquet:   0%|          | 0.00/981k [00:00<?, ?B/s]"
      ]
     },
     "metadata": {},
     "output_type": "display_data"
    },
    {
     "data": {
      "application/vnd.jupyter.widget-view+json": {
       "model_id": "53dff7bf189345f586b023c21da35d5e",
       "version_major": 2,
       "version_minor": 0
      },
      "text/plain": [
       "Generating train split:   0%|          | 0/1042 [00:00<?, ? examples/s]"
      ]
     },
     "metadata": {},
     "output_type": "display_data"
    },
    {
     "data": {
      "application/vnd.jupyter.widget-view+json": {
       "model_id": "b060fdbf75fc431a80db7f6db327f75d",
       "version_major": 2,
       "version_minor": 0
      },
      "text/plain": [
       "README.md:   0%|          | 0.00/429 [00:00<?, ?B/s]"
      ]
     },
     "metadata": {},
     "output_type": "display_data"
    },
    {
     "name": "stderr",
     "output_type": "stream",
     "text": [
      "c:\\Users\\danil\\AppData\\Local\\Programs\\Python\\Python312\\Lib\\site-packages\\huggingface_hub\\file_download.py:139: UserWarning: `huggingface_hub` cache-system uses symlinks by default to efficiently store duplicated files but your machine does not support them in C:\\Users\\danil\\.cache\\huggingface\\hub\\datasets--jilp00--YouToks-Instruct-Quantum-Physics-III. Caching files will still work but in a degraded version that might require more space on your disk. This warning can be disabled by setting the `HF_HUB_DISABLE_SYMLINKS_WARNING` environment variable. For more details, see https://huggingface.co/docs/huggingface_hub/how-to-cache#limitations.\n",
      "To support symlinks on Windows, you either need to activate Developer Mode or to run Python as an administrator. In order to activate developer mode, see this article: https://docs.microsoft.com/en-us/windows/apps/get-started/enable-your-device-for-development\n",
      "  warnings.warn(message)\n"
     ]
    },
    {
     "data": {
      "application/vnd.jupyter.widget-view+json": {
       "model_id": "2860914927314fa4a01b36c1fa7c5475",
       "version_major": 2,
       "version_minor": 0
      },
      "text/plain": [
       "train-00000-of-00001.parquet:   0%|          | 0.00/1.02M [00:00<?, ?B/s]"
      ]
     },
     "metadata": {},
     "output_type": "display_data"
    },
    {
     "data": {
      "application/vnd.jupyter.widget-view+json": {
       "model_id": "63d718ffcf894b69a6383565544d7d3b",
       "version_major": 2,
       "version_minor": 0
      },
      "text/plain": [
       "Generating train split:   0%|          | 0/1125 [00:00<?, ? examples/s]"
      ]
     },
     "metadata": {},
     "output_type": "display_data"
    }
   ],
   "source": [
    "from datasets import load_dataset\n",
    "\n",
    "ds1 = load_dataset(\"jilp00/YouToks-Instruct-Quantum-Physics-I\")\n",
    "ds2 = load_dataset(\"jilp00/YouToks-Instruct-Quantum-Physics-II\")\n",
    "ds3 = load_dataset(\"jilp00/YouToks-Instruct-Quantum-Physics-III\")"
   ]
  },
  {
   "cell_type": "code",
   "execution_count": 27,
   "metadata": {},
   "outputs": [],
   "source": [
    "questions.extend(ds1['train']['question'])\n",
    "questions.extend(ds2['train']['question'])\n",
    "questions.extend(ds3['train']['question'])"
   ]
  },
  {
   "cell_type": "code",
   "execution_count": 24,
   "metadata": {},
   "outputs": [
    {
     "data": {
      "text/plain": [
       "90"
      ]
     },
     "execution_count": 24,
     "metadata": {},
     "output_type": "execute_result"
    }
   ],
   "source": [
    "answers = []\n",
    "st = ''\n",
    "with open('./a/asnw_text.txt', encoding='utf-8') as f:\n",
    "    for line in f:\n",
    "        if line != '\\n':\n",
    "            st += line\n",
    "        else:\n",
    "            answers.append(st[3:])\n",
    "            st = ''\n",
    "answers.append(st[3:])\n",
    "len(answers)"
   ]
  },
  {
   "cell_type": "code",
   "execution_count": 28,
   "metadata": {},
   "outputs": [],
   "source": [
    "answers.extend(ds1['train']['response'])\n",
    "answers.extend(ds2['train']['response'])\n",
    "answers.extend(ds3['train']['response'])"
   ]
  },
  {
   "cell_type": "code",
   "execution_count": 29,
   "metadata": {},
   "outputs": [],
   "source": [
    "import json\n",
    "\n",
    "qa = [{'question': questions[i], 'answer': answers[i]} for i in range(len(questions))]\n",
    "# for q in qa:\n",
    "#     json.dump('./qa.json',q)\n",
    "json.dump(qa, open('./qa.json', 'w', encoding='utf-8'), indent=2, ensure_ascii=False)"
   ]
  },
  {
   "cell_type": "code",
   "execution_count": 25,
   "metadata": {},
   "outputs": [
    {
     "data": {
      "text/plain": [
       "(942, 1042, 1125)"
      ]
     },
     "execution_count": 25,
     "metadata": {},
     "output_type": "execute_result"
    }
   ],
   "source": [
    "len(ds1['train']['question']), len(ds2['train']['question']), len(ds3['train']['question'])"
   ]
  },
  {
   "cell_type": "code",
   "execution_count": 26,
   "metadata": {},
   "outputs": [
    {
     "data": {
      "text/plain": [
       "(942, 1042, 1125)"
      ]
     },
     "execution_count": 26,
     "metadata": {},
     "output_type": "execute_result"
    }
   ],
   "source": [
    "len(ds1['train']['response']), len(ds2['train']['response']), len(ds3['train']['response'])"
   ]
  },
  {
   "cell_type": "code",
   "execution_count": 23,
   "metadata": {},
   "outputs": [
    {
     "data": {
      "text/plain": [
       "75"
      ]
     },
     "execution_count": 23,
     "metadata": {},
     "output_type": "execute_result"
    }
   ],
   "source": [
    "questions = []\n",
    "s = ''\n",
    "with open('./q/quest.txt', encoding='utf-8') as f:\n",
    "    for line in f:\n",
    "        if line != '\\n':\n",
    "            s += line\n",
    "        else:\n",
    "            questions.append(s[3:])\n",
    "            s = ''\n",
    "questions.append(s[3:])\n",
    "questions = questions[15:]\n",
    "len(questions)"
   ]
  },
  {
   "cell_type": "code",
   "execution_count": 24,
   "metadata": {},
   "outputs": [
    {
     "data": {
      "text/plain": [
       "[' Чему равно действие оператора Адамара на кубит $|q> = \\\\alpha|0> + \\\\beta|1>$. Выбери один правильный ответ\\\\\\\\\\n1) $\\\\frac{1}{2}[(\\\\alpha + \\\\beta)|1> + (\\\\alpha - \\\\beta)|0>]$ \\\\\\\\\\n2) $\\\\frac{1}{\\\\sqrt{2}}[(\\\\alpha + \\\\beta)|0> + (\\\\alpha - \\\\beta)|1>]$ \\\\\\\\\\n3) $\\\\frac{1}{2}[(\\\\alpha + \\\\beta)|0> + (\\\\alpha - \\\\beta)|1>]$ \\\\\\\\\\n4) $\\\\frac{1}{\\\\sqrt{2}}[(\\\\alpha - \\\\beta)|0> + (\\\\alpha + \\\\beta)|1>]$ \\\\\\\\\\n5) нет правильного ответа \\\\\\\\\\n',\n",
       " ' Какое соотношение соответствует определению эрмитовского оператора? Выбери один правильный ответ \\\\\\\\\\n1) $\\\\int\\\\phi\\\\hat{F}\\\\psi dv = \\\\int\\\\psi\\\\hat{F}^*\\\\phi dv$ \\\\\\\\\\n2) $\\\\int\\\\phi^*\\\\hat{F}^*\\\\psi dv = \\\\int\\\\psi\\\\hat{F}^*\\\\phi^* dv$ \\\\\\\\\\n3) $\\\\int\\\\phi^*\\\\hat{F}\\\\psi dv = \\\\int\\\\psi\\\\hat{F}^*\\\\phi dv$ \\\\\\\\\\n4) $\\\\int\\\\phi^*\\\\hat{F}\\\\psi dv = \\\\int\\\\psi\\\\hat{F}\\\\phi^* dv$ \\\\\\\\\\n',\n",
       " ' При каких условиях должна использоваться квантовая теория ? Выбери несколько правильных ответов\\\\\\\\\\n1) скорость движения частиц меньше скорости света \\\\\\\\\\n2) действие системы много меньше $\\\\hbar$ \\\\\\\\\\n3) действие системы равно $\\\\hbar$ \\\\\\\\\\n4) действие системы много больше $\\\\hbar$ \\\\\\\\\\n5) скорость движения частиц близка к скорости света \\\\\\\\\\n',\n",
       " ' В каких еденицах может быть выражена размерность волновой функции стационарного состояния двухэлектронного атома ? ($a_0$ - Боровский радиус, см - сантиметр, м - метр, км - километр) Выбери правильный ответ \\\\\\\\\\n1)$\\\\frac{1}{\\\\sqrt{a}}$ \\\\\\\\ \\n2) см$^3$ \\\\\\\\ \\n3) см $^{-3}$ \\\\\\\\\\n4) не имеет размерности \\\\\\\\\\n5) $\\\\fraq{1}{a_0}$ \\\\\\\\\\n6) км $^{-3}$ \\\\\\\\\\n7) м $^{-3}$ \\\\\\\\\\n',\n",
       " ' Сопоставьте уравнения с типом спектра оператора, Непрерывный, смешанный или дискретный\\\\\\\\\\n1) $\\\\hat{F}\\\\phi_f = f\\\\phi_f$ \\\\\\\\\\n2) $\\\\hat{F}\\\\phi_{n, m} = f_n\\\\phi_{n, m}$ \\\\\\\\\\n3) $\\\\hat{F}\\\\phi_n = f_n\\\\phi_n$ \\\\\\\\\\n',\n",
       " ' отметьте равенство, которое соответсвует определению линейного оператора $\\\\hat{F}$. Выбери правильный ответ \\\\\\\\\\n1) $\\\\hat{F}(c_1\\\\phi_1 + c_2\\\\phi_2) = c_1^*\\\\hat{F}\\\\phi_1^* + c_2^*\\\\hat{F}\\\\phi_2^*$ \\\\\\\\\\n2) $\\\\hat{F}(c_1\\\\phi_1 + c_2\\\\phi_2) = c_1^*\\\\hat{F}^*\\\\phi_1^* + c_2^*\\\\hat{F}^*\\\\phi_2^*$ \\\\\\\\\\n3) $\\\\hat{F}(c_1\\\\phi_1 + c_2\\\\phi_2) = c_1\\\\hat{F}\\\\phi_1 + c_2\\\\hat{F}\\\\phi_2$ \\\\\\\\\\n4) $\\\\hat{F}(c_1\\\\phi_1 + c_2\\\\phi_2) = c_1^*\\\\hat{F}\\\\phi_1 + c_2^*\\\\hat{F}\\\\phi_2$ \\\\\\\\\\n',\n",
       " ' В алгоритме Дойча используется три класса функций: периодические, постоянные и непостоянные. Выбери правильный ответ \\\\\\\\\\n1) Верно \\\\\\\\\\n2) Неверно \\\\\\\\\\n',\n",
       " ' Нормировка квантового состояния в результате действия на это состояние унитарного оператора не сохраняется. Выбери правильный ответ \\\\\\\\\\n1) Верно \\\\\\\\\\n2) Неверно \\\\\\\\\\n',\n",
       " ' Размерность волновой функции для описания частицы в яме с двумя бесконечно выскоими стенками равна обратной длине. Выбери правильный ответ \\\\\\\\\\n1) Верно \\\\\\\\\\n2) Неверно \\\\\\\\\\n',\n",
       " ' Что такое \"модель невзаимодействующих\" электронов при описании многоэлектронного атома? Выбери правильный ответ \\\\\\\\\\n1)спины электронов не учитываются при задании гамильтониана \\\\\\\\\\n2) атомные термы определяются из решения уравнения Шредингера для атома водорода \\\\\\\\\\n3) электроны не взаимодействуют друг с другом \\\\\\\\\\n4) электроны не взаимодействуют с ядром атома и друг с другом \\\\\\\\\\n',\n",
       " ' В кубит можно записать только две единицы инфромации. Выбери правильный ответ \\\\\\\\\\n1) Верно \\\\\\\\\\n2) Неверно \\\\\\\\\\n',\n",
       " ' Задан кубит $|q> = \\\\frac{1}{2}|0> + \\\\frac{\\\\sqrt{3}}{2}|1>$. Чему равна вероятность получения базисного состояния |1> в результате измерения данного кубита? ответ записать в виде десятичного числа с двумя десятичными знаками (с учетом округления) \\\\\\\\\\n',\n",
       " ' Какое положение на сфере Блоха будет занимать вектор произвольного сотояния кубита в результате процедуры его измерения? Выбери правильный ответ \\\\\\\\\\n1) строго вверх \\\\\\\\\\n2) с равной вероятностью или вверх или вниз \\\\\\\\\\n3) или строго по оси z вверх, или строго по оси z вниз \\\\\\\\\\n4)строго вниз \\\\\\\\\\n',\n",
       " ' Во скольок раз энергия основного состояния частицы в яме с двумя бесконеяно высокими стенками меньше энергии третьего возбужденного сотояния? Выбери правильный ответ \\\\\\\\\\n1) 16\\\\\\\\\\n2) 3 \\\\\\\\\\n3) 4 \\\\\\\\\\n4) 9 \\\\\\\\\\n5) 25 \\\\\\\\\\n',\n",
       " ' Отметьте из представленного списа запутанные состояния. Выбери правильный ответ, может быть больше одного ответа \\\\\\\\\\n1) $(|01> + |10>)/\\\\sqrt{2}$ \\\\\\\\\\n2) $(|000> + |111>)/\\\\sqrt{2}$ \\\\\\\\\\n3) $(|00> + |01> + |10> + |11>)/2$ \\\\\\\\\\n4) $(|00> + |11>)/\\\\sqrt{2}$ \\\\\\\\\\n5) $(|00> + |01> - |10> - |11>)/ 2$ \\\\\\\\\\n',\n",
       " ' Укажите чему равно выражение CNOT: $|x> \\\\otimes (\\\\frac{|0> - |1>}{\\\\sqrt{2}})$  Выбери правильный ответ, может быть больше одного ответа \\\\\\\\\\n1) $(-1)^x|x> \\\\otimes (\\\\frac{|0> - |1>}{\\\\sqrt{2}})$ \\\\\\\\\\n2) $|x> \\\\otimes (-1)^x(\\\\frac{|0> - |1>}{\\\\sqrt{2}})$ \\\\\\\\\\n3) $|x> \\\\otimes (\\\\frac{|0> - |1>}{\\\\sqrt{2}})$ \\\\\\\\\\n4) $-|x> \\\\otimes (\\\\frac{|0> - |1>}{\\\\sqrt{2}})$ \\\\\\\\\\n',\n",
       " ' Что означает символ $<\\\\mathbf{r}|\\\\mathbf{\\\\Psi}>$  Выбери правильный ответ, может быть больше одного ответа \\\\\\\\\\n1) функция состояние $|\\\\Psi>$ в координатном представлении \\\\\\\\\\n2) скалярное произведение векторов \\\\\\\\\\n3) внешнее произведение векторов \\\\\\\\\\n4) Волновая функция \\\\\\\\\\n',\n",
       " ' Вектор квантового состояние измеряемая величина ?  Выбери правильный ответ. \\\\\\\\\\n1)нет, если это координата \\\\\\\\\\n2)нет \\\\\\\\\\n3)да \\\\\\\\\\n4)да, если это базисное состояние \\\\\\\\\\n',\n",
       " ' Что не относится к стандартным условиям, накладываемым на волновую функцию?  Выбери правильный ответ, может быть больше одного ответа \\\\\\\\\\n1)ограниченность \\\\\\\\\\n2)статистическая интерпретация \\\\\\\\\\n3)непрерывность \\\\\\\\\\n4)нормировка \\\\\\\\\\n5)однозначиность \\\\\\\\\\n',\n",
       " ' Чему равен коммутатор оператора координаты и оператора первой производной по этой координате $[x, \\\\frac{d}{dx}]$ \\\\\\\\\\n',\n",
       " ' Какие частицы входят в состав ядра атома? Выбери правильный ответ, может быть больше одного ответа \\\\\\\\\\n1)Позитрона \\\\\\\\\\n2) Нейтроны \\\\\\\\\\n3)Протоны \\\\\\\\\\n4)Электроны \\\\\\\\\\n5)Мьоны \\\\\\\\\\n',\n",
       " \" Выражение $|\\\\mathbf{r}|\\\\mathbf{r}'>$ равно символу Кронекера, если \\\\mathbf{r} - координата. Выбери правильный ответ. \\\\\\\\\\n1)Верно \\\\\\\\\\n2)Неверно \\\\\\\\\\n\",\n",
       " ' Чему равно произведение трех матриц Паули ? Выбери правильный ответ. \\\\\\\\\\n1) $-i$ \\\\\\\\\\n2) 1 \\\\\\\\\\n3) 3 \\\\\\\\\\n4) $i$ \\\\\\\\\\n5) -1 \\\\\\\\\\n',\n",
       " ' Интенсивность спектральной линии и вероятность перехода связаны друг с другом ? Выбери правильный ответ. \\\\\\\\\\n1)да \\\\\\\\\\n2)нет \\\\\\\\\\n3)тема не рассматривалась \\\\\\\\\\n4)свзяаны для линий спектра разрешенных переходов \\\\\\\\\\n',\n",
       " ' Чему равно действие оператора Уолша - Адамара на двухкубитовое состояние вида |01> ? Выбери правильный ответ, может быть больше одного ответа \\\\\\\\\\n1)$\\\\frac{1}{2}(|00> - |01> + |10> - |11>)$ \\\\\\\\\\n2)$\\\\frac{1}{2}(|00> + |01> + |10> + |11>)$ \\\\\\\\\\n3)$\\\\frac{1}{2}(|00> + |01> - |10> - |11>)$ \\\\\\\\\\n4)$\\\\frac{1}{2}(|00> - |01> - |10> + |11>)$ \\\\\\\\\\n5)$\\\\frac{1}{2}(|0>_2 - |1>_2 + |2>_3 - |3>_2)$ \\\\\\\\\\n',\n",
       " ' Кубит - это суперпозиция двух квантовых состояний $c_0|0> + c_1|1>$, где $c_1, c_2$ - комплексные числа. Сколько действительных параметров нужно задать, чтобы определить конкретный кубит. Выбери правильный ответ. \\\\\\\\\\n1) 2 \\\\\\\\\\n2) 3 \\\\\\\\\\n3) 1 \\\\\\\\\\n4) 4 \\\\\\\\\\n',\n",
       " ' Какой оператор является обратным к оператору комплексного сопряжения? Выбери правильный ответ. \\\\\\\\\\n1) извлечение квадратного корня из мнимой единицы \\\\\\\\\\n2)умножение на -1 \\\\\\\\\\n3)нет такого оператора \\\\\\\\\\n4)оператор комплексного сопряжения \\\\\\\\\\n5)умножение на мнимую единцу \\\\\\\\\\n',\n",
       " ' Что такое кубит ? Выбери правильный ответ, может быть больше одного ответа \\\\\\\\\\n1)Суперпозиция двух квантовых состояний \\\\\\\\\\n2)Суперпозиция двух и более квантовых состояний \\\\\\\\\\n3)все ответы верны \\\\\\\\\\n4)Единица квантовой теории информации \\\\\\\\\\n5)физический объект с квантовыми характеристиками \\\\\\\\\\n',\n",
       " ' Какова кратность вырождения дискретного спектра в одномерном случае? Выбери правильный ответ. \\\\\\\\\\n1) $n^2$ \\\\\\\\\\n2) 2 \\\\\\\\\\n3) 1 \\\\\\\\\\n',\n",
       " ' Как определен оператор в своем собственном представлении для случая, когда спектр оператора дискретный ? Выбери правильный ответ, может быть больше одного ответа \\\\\\\\\\n1)бесконечномерная, непрерывная матрица на главной диагонали которой находятся собственные число оператора \\\\\\\\\\n2)диагональная матрица размерности 2х2 на главной диагонали которой находятся проекции спина частицы \\\\\\\\\\n3)диагональная матрица размерности nxn, где n - главное квантовое число \\\\\\\\\\n4)диагональная матрица на главной диагонали которой располложены собственные числа оператора \\\\\\\\\\n',\n",
       " ' Какое утверждение не является полстулатом квантовой теории. Выбери правильный ответ, может быть больше одного ответа \\\\\\\\\\n1)Принцип неопределённости Гейзенберга \\\\\\\\\\n2)Эволюция состояний \\\\\\\\\\n3)Результатом измерения является число, принадлежащее спектру оператора \\\\\\\\\\n4)вид оператора импульса \\\\\\\\\\n',\n",
       " ' Отметьте правильные выражения для записи 5-ти кубитового регистра. Выбери правильный ответ, может быть больше одного ответа \\\\\\\\\\n1)$|q>_5 = \\\\sum_{k = 0}^{31}c_k|q>_5$ \\\\\\\\\\n2)$|q>_5 = \\\\sum_{k = 0}^{2^5 - 1}c_k|q>_n$\\\\\\\\\\n3)$|q>_5 = \\\\sum_{k = 0}^{2^5 - 1}c_k|q>_5$ \\\\\\\\\\n4)$|q>_5 = \\\\sum_{k = 0}^{2^5}c_k|q>_5$ \\\\\\\\\\n5)$|q>_n = \\\\sum_{k = 0}^{2^n - 1}c_k|q>_n$ \\\\\\\\\\n',\n",
       " ' Верно ли даное утверждение: \"квантовое стационарное состояние не зависит от времени\". Выбери правильный ответ. \\\\\\\\\\n1)Верно \\\\\\\\\\n2)Неверно \\\\\\\\\\n',\n",
       " ' Укажите верные свойства волновой функции. Выбери правильный ответ, может быть больше одного ответа \\\\\\\\\\n1)не нормирована\\\\\\\\\\n2)безразмерна \\\\\\\\\\n3)ограниченная функция \\\\\\\\\\n4)амплитуда вероятности найти частицы в пространстве \\\\\\\\\\n5)вероятность найти частицы в пространстве \\\\\\\\\\n6)имеет вид волны \\\\\\\\\\n7)размерна \\\\\\\\\\n',\n",
       " ' Что такое спин частиц? Выбери правильный ответ, может быть больше одного ответа \\\\\\\\\\n1)Спин - скалярная квантовая характеристика ряда частиц \\\\\\\\\\n2)Спин - векторное свойство ряда элементарных частиц да\\\\\\\\\\n3)Спин - вращение частиц вокруг своей оси \\\\\\\\\\n4)Спин - внутренний механический момент, который ориентируется в пространстве строго определенным образом да \\\\\\\\\\n',\n",
       " ' Преобразование квантовых состояний осуществляется только унитарными операторами. Выбери правильный ответ. \\\\\\\\\\n1)Верно \\\\\\\\\\n2)Неверно \\\\\\\\\\n',\n",
       " ' Состояние частицы в квантовой механике считается заданным, если заданы(Выбери правильный ответ, может быть больше одного ответа):\\\\\\\\\\n1)Масса, энергия и квадрат модуля волновой функции \\\\\\\\\\n2)Координата и импульс частицы \\\\\\\\\\n3)Координаты частицы и время \\\\\\\\\\n4)Энергия и квадрат модуля волновой функции \\\\\\\\\\n5)Волновая функция \\\\\\\\\\n',\n",
       " ' Сопоставьте символы с их названиями \\\\\\\\\\n1) $<a|$ \\\\\\\\\\n2) $|a>$ \\\\\\\\\\n3) $<a|b>$ \\\\\\\\\\n4) $<x|b>$ \\\\\\\\\\n',\n",
       " ' Размерность волновой функции для описания частицы с двумя бесконечно высокими стенками не равна корню квадратному от размерности длины.  Выбери правильный ответ. \\\\\\\\\\n1)Верно \\\\\\\\\\n2)Неверно \\\\\\\\\\n',\n",
       " ' Чему равен коммутатор операторов проекция импульсов на координатные оси $[\\\\hat{p}_x, \\\\hat{p}_y]$ \\\\\\\\\\n',\n",
       " ' В какой точке (или точках) плотность вероятность обнаружить частицу в яме с двумя бесконечно высокими стенками (ширина ямы 10 см) максимальна для первого возбужденного состояния? Выбери правильный ответ. \\\\\\\\\\n1)3,5 см \\\\\\\\\\n2)2,5 см \\\\\\\\\\n3)8,5 см \\\\\\\\\\n4) 10 см \\\\\\\\\\n5)0 см \\\\\\\\\\n6)5 см \\\\\\\\\\n7) 7,5 см \\\\\\\\\\n',\n",
       " ' Чему равна амплитуда вероятности найти частицу в яме с двумя бесконечно высокими стенками в точке $x = d/4$ во втором возбужденном состоянии? Ширина ямы $d$ равна 9 см. В ответе указать число и размерность величины (если есть). Число можно ввести в точностью до 0.01 \\\\\\\\\\n',\n",
       " ' Какое выражение соответсвует третьей степени оператора проекции импульса на ось $x$? Выбери правильный ответ, может быть больше одного ответа \\\\\\\\\\n1) $+\\\\hbar^3\\\\frac{\\\\partial^3}{\\\\partial x^3}$ \\\\\\\\\\n2) $-i\\\\hbar^3\\\\frac{\\\\partial^3}{\\\\partial x^3}$ \\\\\\\\\\n3) $-\\\\hbar^3\\\\frac{\\\\partial^3}{\\\\partial x^3}$ \\\\\\\\\\n4) $+i\\\\hbar^3\\\\frac{\\\\partial^3}{\\\\partial x^3}$ \\\\\\\\\\n',\n",
       " ' Для реализации процедуры сверхплотного кодирования абоненты A и Б создали запутанное состояние вида $\\\\frac{1}{2}(|01> + |10>)$ какое сообщение получит абонент Б (по протоколу сверхплотного кодирования) в результате измерения, если перед отправкой своего кубита абоненту Б, абонент А применил к своему кубиту приведенные операторы? (кубит абонента А указан слева в кет векторах). Установите соответствие \\\\\\\\\\n1)не менял кубит \\\\\\\\\\n2)подействовая оператором NOT*Z \\\\\\\\\\n3)подействовал оператором Z \\\\\\\\ \\n4)подействовал оператором NOT \\\\\\\\\\n',\n",
       " ' Что не относится к стандартным условиям, накладываемым на волновую функцию?Выбери правильный ответ, может быть больше одного ответа. \\\\\\\\\\n1)статистическая интерпретация \\\\\\\\\\n2)однозначность \\\\\\\\\\n3)непрерывность \\\\\\\\\\n4)ограниченность \\\\\\\\\\n5)нормировка \\\\\\\\\\n',\n",
       " ' Если задан квантовый регистр вида $|\\\\phi>_n = \\\\frac{1}{N}\\\\sum_{x = 0}^{N - 1}|x>_n$ для N элементов базы данных, в которой необходимо найти элемент $|y>_n$, то какое выражение определяет оператор Гровера?Выбери правильный ответ. \\\\\\\\\\n1)$(2|\\\\phi>_n<\\\\phi|_n - I)(I - 2|y>_n<y|_n)$ \\\\\\\\\\n2)$(2|\\\\phi>_n<\\\\phi|_n - I)(I - 2|x>_n<x|_n)$ \\\\\\\\\\n3)$(2|\\\\phi>_n<\\\\phi|_n - I)(I + 2|y>_n<y|_n)$ \\\\\\\\\\n4)$(2|x>_n<x|_n - I)(I - 2|y>_n<y|_n)$ \\\\\\\\\\n',\n",
       " ' Что означает символ $|<r|\\\\Psi>|^2$ Выбери правильный ответ, может быть больше одного ответа \\\\\\\\\\n1)квадрат скалярного произведения векторов \\\\\\\\\\n2)удвоение внешнее произведение векторов \\\\\\\\\\n3)плотность вероятности \\\\\\\\\\n4)квадрат функции состояния $|\\\\Psi>$ в координатном представлении \\\\\\\\\\n',\n",
       " ' Чему равно значение сбалансированной функции в алгоритме Дойча-Джозса при значении аргумента равного х. Выбери правильный ответ, может быть больше одного ответа \\\\\\\\\\n1)x \\\\\\\\\\n2) -x \\\\\\\\\\n3) 0 \\\\\\\\\\n4) 1 \\\\\\\\\\n5)not(x) \\\\\\\\\\n',\n",
       " ' Каков начальный регистр в алгоритме Дойча? Выбери правильный ответ, может быть больше одного ответа. \\\\\\\\\\n1)$|00>$ \\\\\\\\\\n2)$|01>$ \\\\\\\\\\n3)$|0> \\\\otimes |1>$ \\\\\\\\\\n4)$|0> \\\\otimes |0>$ \\\\\\\\\\n',\n",
       " ' В алгоритме Дойча-Джозса используется (Выбери правильный ответ): \\\\\\\\\\n1)бинарная функция от произвольного аргумента \\\\\\\\\\n2)произвольная функция от произвольного аргумента \\\\\\\\\\n3)произвольная функция от произвольного аргумента \\\\\\\\\\n4)бинарная функция от бинарного аргумента \\\\\\\\\\n',\n",
       " ' В алгоритме Дойча-Джозса используется определение сбалансированной функции что означает, что первая половина значений функции равна 1, а вторая половина значений равна 0? Выбери правильный ответ. \\\\\\\\\\n1)Верно \\\\\\\\\\n2)Неверно \\\\\\\\\\n',\n",
       " ' Формула квантового преобразования Фурье не отличается от формулы классического дискретного преобразования Фурье? Выбери правильный ответ. \\\\\\\\\\n1)Верно \\\\\\\\\\n2)Неверно \\\\\\\\\\n',\n",
       " ' Какие логические оператора являются необратимыми из данного перечня? Отметь правильный ответ, может быть больше одного ответа \\\\\\\\\\n1)CNOT \\\\\\\\\\n2)NOT \\\\\\\\\\n3)XOR \\\\\\\\\\n4)AND \\\\\\\\\\n5)OR \\\\\\\\\\n6)гейт Тоффоли \\\\\\\\\\n',\n",
       " ' Чему равно произведение однокубитовых операторов $\\\\hat{H}\\\\hat{Y}\\\\hat{H}$? Выбери правильный ответ. \\\\\\\\\\n1)$\\\\hat{Y}$ \\\\\\\\\\n2)$\\\\hat{H}$ \\\\\\\\\\n3)$-\\\\hat{H}$ \\\\\\\\\\n4)$-\\\\hat{X}$ \\\\\\\\\\n5)$\\\\hat{X}$ \\\\\\\\\\n6)$-\\\\hat{Y}$ \\\\\\\\\\n',\n",
       " ' Каким выражением определяется действие однокубитовых операторов $\\\\hat{X}, \\\\hat{Y}, \\\\hat{Z}$ на кубит $|a>=a|0> + b|1>$? \\\\\\\\\\n1)$\\\\hat{Z}|q>$ \\\\\\\\\\n2)$\\\\hat{X}|q>$ \\\\\\\\\\n3)$\\\\hat{Y}|q>$ \\\\\\\\\\n',\n",
       " ' Каков начальный регистр в алгоритме Саймона? Выбери правильный ответ, может быть больше одного ответа \\\\\\\\\\n1)$|\\\\mathbf{0} \\\\otimes \\\\mathbf{0}>$ \\\\\\\\\\n2)$|0> \\\\otimes |0>$ \\\\\\\\\\n3)$|\\\\mathbf{00}>$ \\\\\\\\\\n4)$|0> \\\\otimes |1>$ \\\\\\\\\\n',\n",
       " ' Как называется явление, при котором квантовые состояния двух объектов оказываеются взаимозависымим? Выбери правильный ответ. \\\\\\\\\\n1)Квантовая зависимость \\\\\\\\\\n2)Квантовый парадокс \\\\\\\\\\n3)Квантовая запутанность \\\\\\\\\\n4)Телепортация \\\\\\\\\\n',\n",
       " ' В рамках классических вычислений для решения задачи Саймона потребуется выполнить число вычислений? Выбери правильный ответ. \\\\\\\\\\n1)порядка $n^2$ \\\\\\\\\\n2)порядка $n$ \\\\\\\\\\n3)порядка $2^n$ \\\\\\\\\\n4)нет правильного ответа \\\\\\\\\\n',\n",
       " ' Каким условиям удовлетворяет унитарный оператор? Выбери правильный ответ, может быть больше одного ответа\\\\\\\\\\n1)$U^\\\\dagger U = 0$ \\\\\\\\\\n2)$U^\\\\dagger U = 1$ \\\\\\\\\\n3)$U^\\\\dagger = U^{-1}$ \\\\\\\\\\n4)$U^\\\\dagger = U^1$ \\\\\\\\\\n',\n",
       " ' Какое выражение верно для квантового преобразования Фурье? Выбери правильный ответ. \\\\\\\\\\n1)нет правильного ответа \\\\\\\\\\n2)$\\\\neg{|3>_2} = \\\\frac{1}{2}(|0>_2 + i|1>_2 - |2>_2 - i|3>_2)$ \\\\\\\\\\n3)$\\\\neg{|3>_2} = \\\\frac{1}{2}(|0>_2 - i|1>_2 + |2>_2 + i|3>_2)$ \\\\\\\\\\n4)$\\\\neg{|3>_2} = \\\\frac{1}{2}(|0>_2 - i|1>_2 - |2>_2 + i|3>_2)$ \\\\\\\\\\n5)$\\\\neg{|3>_2} = \\\\frac{1}{2}(|0>_2 - i|1>_2 - |2>_2 - i|3>_2)$ \\\\\\\\\\n',\n",
       " ' Чему равно значение постоянной функции в алгоритме Дойча-Джозса при значении аргумента равного х? Выбери правильный ответ, может быть больше одного ответа \\\\\\\\\\n1) -x \\\\\\\\\\n2) not(x) \\\\\\\\\\n3) 1 \\\\\\\\\\n4) х \\\\\\\\\\n5) 0 \\\\\\\\\\n',\n",
       " ' Собственное значение унитарного оператора может быть равно (Выбери правильный ответ, может быть больше одного ответа): \\\\\\\\\\n1)1 \\\\\\\\\\n2)все ответы правильные \\\\\\\\\\n3)-1 \\\\\\\\\\n4)$\\\\exp(-i2)$ \\\\\\\\\\n',\n",
       " ' Какая из формулировок соответствует принципу Паули? Выбери правильный ответ. \\\\\\\\\\n1)В квантово-механической системе не может быть двух или более электронов, обладающих одинаковым спином \\\\\\\\\\n2)Состояние микрочастицы в квантовой механике задается задается волновой функцией \\\\\\\\\\n3)Энергетический спектр электронов в кванотово-механической системе дискретен \\\\\\\\\\n4)Состояние микрочастицы в квантовой механике не может одновременно характеризоваться точными значениями координаты и импульса \\\\\\\\\\n5)В квантово-механической системе не может быть двух или более электронов, находящихся в состоянии с одинаковым набором квантовых чисел \\\\\\\\\\n',\n",
       " ' Что не может служить квантовым каналом связи? Выбери правильный ответ, может быть больше одного ответа \\\\\\\\\\n1)Телепортация \\\\\\\\\\n2)Эффект Джозефосна \\\\\\\\\\n3)сверхплотное кодирование \\\\\\\\\\n4)Оптоволоконная линия \\\\\\\\\\n5)Проводник \\\\\\\\\\n6)протокол bb8484 \\\\\\\\\\n',\n",
       " ' По протоколу b92 абонент А записал случайную бинарную последовательность вида 1101 0010 0111 0010 и на ее основе создал регистр в соответствии с требованием простока b92. Отослал кубиты регистра абонента Б. Абонент Б составил бинарную последовательность 0110 1010 1010 0101 и действовал на основании этой последовательности на поступающие кубиты операторами, которые определены в протоколе b92 и далее проводил их измерение. Далее Б сообщил абоненту А по открытому каналу свзяи те номера кубит, которые он должен сообщить А по условию протокола b92. ВОПРОС: Какой секретный ключ сформировали абоненты? \\\\\\\\\\n',\n",
       " ' Абоненты А и Б создали EPR пару вида $\\\\frac{1}{\\\\sqrt{2}}(|1, 0> - |0, 1>)$ (в кет векторе первый кубит принадлежит А). Абоненты со своими кубитами разделены в пространстве. Далее абоненту А передан дополнительный кубит $|q> = a|0> + b|1>$. Абонент А должен передать необходимую информацию абоненту Б, чтобы тот смог сформировать кубит $|q>$ из своего кубита. Для этого абонент А выполняет операции, предусмотренные протоколом телепортации с кубитом $|q>$ и своим кубитом, и производит измерение этой пары кубит. В каком состоянии находится кубит абонента Б после измерения, выполненного абонентом А? \\\\\\\\\\n1) 11 \\\\\\\\\\n2) 00 \\\\\\\\\\n3) 10 \\\\\\\\\\n4) 01 \\\\\\\\\\n',\n",
       " ' Абоненты А и Б создали EPR пару вида $\\\\frac{1}{\\\\sqrt{2}}(|1, 0> - |0, 1>)$ (в кет векторе первый кубит принадлежит А). Абоненты со своими кубитавми разведены в пространстве. Далее абоненету А передан дополнительный кубит $|q> = a|0> + b|1>$. Абонент А должен передать необходимую информацию абоненту Б, чтобы тот смог сформировать кубит $|q>$ из своего кубита. Для этого абонент А выполняет операции, предусмотренные протоколом телепортации с кубитом $|q>$ и своим кубитом, и производит измерение этой пары кубит. В каком состоянии находится кубит абонента Б после измеренияЮ выполненного абонентом А, если результат измерения оказался или 11 или 00? \\\\\\\\\\n1) 11 - \\\\\\\\\\n2) 00 - \\\\\\\\\\n',\n",
       " ' \\\\textbf{Single-Qubit Transformation:}\\nGiven the initial state of a qubit \\\\( |\\\\psi\\\\rangle = |0\\\\rangle \\\\), apply the sequence of gates \\\\( H \\\\) (Hadamard gate) followed by \\\\( X \\\\) (Pauli-X gate). What is the final state of the qubit?\\nIf a measurement is performed on the qubit in the computational basis after applying these gates, what is the probability of measuring \\\\( |0\\\\rangle \\\\) or \\\\( |1\\\\rangle \\\\)?\\n',\n",
       " ' \\\\textbf{Superposition State Transformation:}\\nA qubit is initialized in the state \\\\( |\\\\psi\\\\rangle = \\\\frac{1}{\\\\sqrt{2}}(|0\\\\rangle + |1\\\\rangle) \\\\). Apply a \\\\( R_z(\\\\pi/4) \\\\) rotation gate followed by a \\\\( H \\\\) gate. What is the final state of the qubit in terms of \\\\( |0\\\\rangle \\\\) and \\\\( |1\\\\rangle \\\\)?\\nWhat is the relative phase between \\\\( |0\\\\rangle \\\\) and \\\\( |1\\\\rangle \\\\) in the final state?\\n',\n",
       " ' \\\\textbf{Controlled Gate Application:}\\nConsider a two-qubit system with the initial state \\\\( |\\\\psi\\\\rangle = |0\\\\rangle \\\\otimes |+\\\\rangle \\\\), where \\\\( |+\\\\rangle = \\\\frac{1}{\\\\sqrt{2}}(|0\\\\rangle + |1\\\\rangle) \\\\). Apply a CNOT gate with the first qubit as the control and the second as the target. What is the resulting state of the system?\\nIf the first qubit is measured in the computational basis, what are the possible outcomes and corresponding states of the second qubit?\\n',\n",
       " ' \\\\textbf{Entanglement Creation:}\\nStarting with the state \\\\( |00\\\\rangle \\\\), apply the following gates:\\nA \\\\( H \\\\) gate on the first qubit.\\nA CNOT gate with the first qubit as control and the second qubit as target.\\nWhat is the final state of the system? Verify if it is entangled.\\n',\n",
       " ' \\\\textbf{Phase Adjustment:}\\nA qubit starts in the state \\\\( |\\\\psi\\\\rangle = \\\\frac{1}{\\\\sqrt{2}}(|0\\\\rangle + |1\\\\rangle) \\\\). Apply a \\\\( Z \\\\) gate followed by a \\\\( S \\\\) (phase) gate. What is the final state?\\nHow does the relative phase between \\\\( |0\\\\rangle \\\\) and \\\\( |1\\\\rangle \\\\) change after the operations?\\n',\n",
       " ' \\\\textbf{State Inversion:}\\nFor a qubit initialized in \\\\( |\\\\psi\\\\rangle = \\\\frac{1}{\\\\sqrt{3}}|0\\\\rangle + \\\\sqrt{\\\\frac{2}{3}}|1\\\\rangle \\\\), apply the following circuit:\\n\\\\( X \\\\) gate.\\n\\\\( H \\\\) gate.\\n\\\\( R_y(\\\\pi/3) \\\\) gate.\\nWhat is the final state in terms of \\\\( |0\\\\rangle \\\\) and \\\\( |1\\\\rangle \\\\)?\\n',\n",
       " ' \\\\textbf{Multi-Qubit Gate Circuit:}\\nStart with the two-qubit state \\\\( |\\\\psi\\\\rangle = |+\\\\rangle \\\\otimes |0\\\\rangle \\\\). Apply the following gates:\\nA \\\\( Z \\\\) gate on the second qubit.\\nA SWAP gate between the first and second qubits.\\nWhat is the resulting state of the system? Write the result in the standard basis.\\n',\n",
       " ' \\\\textbf{Measurement-Based Post-Gate Analysis:}\\nA qubit is prepared in the state \\\\( |\\\\psi\\\\rangle = \\\\frac{1}{2}|0\\\\rangle + \\\\frac{\\\\sqrt{3}}{2}|1\\\\rangle \\\\). Apply a \\\\( H \\\\) gate followed by a measurement in the computational basis. What are the possible measurement outcomes and their probabilities?']"
      ]
     },
     "execution_count": 24,
     "metadata": {},
     "output_type": "execute_result"
    }
   ],
   "source": [
    "questions"
   ]
  },
  {
   "cell_type": "code",
   "execution_count": 25,
   "metadata": {},
   "outputs": [
    {
     "data": {
      "text/plain": [
       "75"
      ]
     },
     "execution_count": 25,
     "metadata": {},
     "output_type": "execute_result"
    }
   ],
   "source": [
    "accepted = []\n",
    "s = ''\n",
    "\n",
    "with open('accepted.txt', encoding='utf-8') as f:\n",
    "    for line in f:\n",
    "        if line != '\\n':\n",
    "            s += line\n",
    "        else:\n",
    "            accepted.append(s[3:])\n",
    "            s = ''\n",
    "accepted.append(s[3:])\n",
    "len(accepted)"
   ]
  },
  {
   "cell_type": "code",
   "execution_count": 30,
   "metadata": {},
   "outputs": [
    {
     "data": {
      "text/plain": [
       "75"
      ]
     },
     "execution_count": 30,
     "metadata": {},
     "output_type": "execute_result"
    }
   ],
   "source": [
    "rejected = []\n",
    "s = ''\n",
    "\n",
    "with open('rejected.txt', encoding='utf-8') as f:\n",
    "    for line in f:\n",
    "        if line != '\\n':\n",
    "            s += line\n",
    "        else:\n",
    "            rejected.append(s[3:])\n",
    "            s = ''\n",
    "rejected.append(s[3:])\n",
    "len(rejected)"
   ]
  },
  {
   "cell_type": "code",
   "execution_count": 33,
   "metadata": {},
   "outputs": [],
   "source": [
    "import json\n",
    "feed = [{'question': question, 'accepted': accept, 'rejected': reject} for question, accept, reject in zip(questions, accepted, rejected)]\n",
    "\n",
    "json.dump(feed, open('./feedback.json', 'w', encoding='utf-8'), indent=2, ensure_ascii=False)"
   ]
  },
  {
   "cell_type": "code",
   "execution_count": 9,
   "metadata": {},
   "outputs": [],
   "source": [
    "test_q = []\n",
    "test_a = []\n",
    "sq = ''\n",
    "sa = ''\n",
    "with open('./q/test_questions.txt', encoding='utf-8') as f:\n",
    "    for line in f:\n",
    "        if line != '\\n':\n",
    "            sq += line\n",
    "        else:\n",
    "            test_q.append(sq[3:])\n",
    "            sq = ''\n",
    "test_q.append(sq[3:])\n",
    "\n",
    "with open('./a/test_answers.txt', encoding='utf-8') as f:\n",
    "    for line in f:\n",
    "        if line != '\\n':\n",
    "            sa += line\n",
    "        else:\n",
    "            test_a.append(sa[3:])\n",
    "            sa = ''\n",
    "test_q.append(sa[3:])"
   ]
  },
  {
   "cell_type": "code",
   "execution_count": 10,
   "metadata": {},
   "outputs": [
    {
     "data": {
      "text/plain": [
       "['\\n1) $^2P_{1/2}$ \\\\\\\\\\n2) $^2P_{3/2}$ \\\\\\\\\\n4) $^2D_{3/2}$ \\\\\\\\\\n6) $^2S_{1/2}$ \\\\\\\\\\n',\n",
       " '\\n4) нет правильного ответа \\\\\\\\\\n',\n",
       " '\\n4) нет правильного ответа \\\\\\\\\\n',\n",
       " '\\n5) $\\\\hat{X}$ \\\\\\\\\\n',\n",
       " '\\n1) $|\\\\mathbf{0}>_3$ \\\\\\\\\\n',\n",
       " '\\n1)Верно \\\\\\\\\\n',\n",
       " '\\n1) $(|\\\\mathbf{0}>_3 + |\\\\mathbf{7}>_3)/\\\\sqrt{2}$ \\\\\\\\\\n',\n",
       " '\\nОтвет: 0 \\\\\\\\\\n',\n",
       " '\\n1) $\\\\hat{X}|q> = $ $a|1> + b|0>$ \\\\\\\\\\n2) $\\\\hat{Y}|q> = $ $ia|1> + ib|0>$ \\\\\\\\\\n3) $\\\\hat{Z}|q> = $ $a|0> - b|1>$ \\\\\\\\\\n4) $\\\\hat{S}|q> = $ $a|0> + ib|1>$ \\\\\\\\\\n5) $\\\\hat{T}|q> = $ нет правильного ответа \\\\\\\\\\n',\n",
       " '\\n1) -b|0> + a|1> \\\\\\\\\\n',\n",
       " ' \\nОтвет 0.5 \\\\\\\\\\n',\n",
       " ' \\n4) |1> \\\\\\\\\\n',\n",
       " ' \\n1) $4d_{3/2}$ \\\\\\\\\\n2) $4s_{1/2}$ \\\\\\\\\\n4) $4f_{5/2}$ \\\\\\\\\\n6) $4d_{5/2}$ \\\\\\\\\\n',\n",
       " ' \\n5) импульс, координата, энергия и время \\\\\\\\\\n',\n",
       " ' \\nОтвет 25 \\\\\\\\\\n',\n",
       " ' \\n3) Спин \\\\\\\\\\n',\n",
       " ' \\n2) собственные функции образуют полный набор \\\\\\\\\\n3) собственные числа образуют ограниченное множество упорядоченных чисел \\\\\\\\\\n4) собственные функции ортонормированы \\\\\\\\\\n6) собственные значения - действительные числа \\\\\\\\\\n7) собственные функции коммутирующих операторов одинаковы \\\\\\\\\\n',\n",
       " ' \\n3) 1 \\\\\\\\\\n',\n",
       " ' \\n3) предсказать значения измеряемых величин, которые будут наблюдаться на опыте и с какой вероятностью \\\\\\\\\\n',\n",
       " ' \\n2)векторное свойство ряда элементарных частиц, направленное против их спина \\\\\\\\\\n',\n",
       " ' \\n1)Верно \\\\\\\\\\n']"
      ]
     },
     "execution_count": 10,
     "metadata": {},
     "output_type": "execute_result"
    }
   ],
   "source": [
    "test_a"
   ]
  },
  {
   "cell_type": "code",
   "execution_count": 11,
   "metadata": {},
   "outputs": [
    {
     "data": {
      "text/plain": [
       "['Отметьте существующие термы щелочных атомов \\\\\\\\\\n1) $^2P_{1/2}$ \\\\\\\\\\n2) $^2P_{3/2}$ \\\\\\\\\\n3) $^1S_{1/2}$ \\\\\\\\\\n4) $^2D_{3/2}$ \\\\\\\\\\n5) $^1D_{3/2}$ \\\\\\\\\\n6) $^2S_{1/2}$ \\\\\\\\\\n7) $^1P_{1/2}$ \\\\\\\\\\n',\n",
       " 'С каким оператором совпадает оператор $U3(\\\\theta, -\\\\frac{\\\\pi}{2}, \\\\frac{\\\\pi}{2}) ?$ \\\\\\\\\\n1) $R_z(\\\\theta)$ \\\\\\\\\\n2) $R_x(\\\\theta)$ \\\\\\\\\\n3) $R_y(\\\\theta)$ \\\\\\\\\\n4) нет правильного ответа \\\\\\\\\\n',\n",
       " 'С каким оператором совпадает оператор $U1(\\\\frac{\\\\pi}{4})$ \\\\\\\\\\n1) Y \\\\\\\\\\n2) X \\\\\\\\\\n3) нет правильного ответа \\\\\\\\\\n4) Z \\\\\\\\\\n5) S \\\\\\\\\\n',\n",
       " 'Чему равно произведение однокубитовых операторов $\\\\hat{H}\\\\hat{Z}\\\\hat{H} ?$ \\\\\\\\\\n1) $-\\\\hat{Y}$ \\\\\\\\\\n2) $-\\\\hat{X}$ \\\\\\\\\\n3) $\\\\hat{Y}$ \\\\\\\\\\n4) $- \\\\hat{H}$ \\\\\\\\\\n5) $\\\\hat{X}$ \\\\\\\\\\n6) $\\\\hat{H}$ \\\\\\\\\\n',\n",
       " 'отметьте правильный ответ для дейтсвия операторов $W^{(3)}CCNOT_{1, 2, 3}W^{(3)}$ на трёхкубитовое базисное состояние $|\\\\mathbf{0}>_3$ \\\\\\\\\\n1) $|\\\\mathbf{0}>_3$ \\\\\\\\\\n2) $|\\\\mathbf{4}>_3$ \\\\\\\\\\n3) $(|\\\\mathbf{0}>_3 + |\\\\mathbf{2}>_3 + |\\\\mathbf{4}>_3 + |\\\\mathbf{6}>_3)/\\\\sqrt{4}$ \\\\\\\\\\n4) $(|\\\\mathbf{0}>_3 + |\\\\mathbf{1}>_3 + |\\\\mathbf{2}>_3 + |\\\\mathbf{3}>_3 + |\\\\mathbf{4}>_3 + |\\\\mathbf{5}>_3 + |\\\\mathbf{6}>_3 + |\\\\mathbf{7}>_3)/\\\\sqrt{8}$ \\\\\\\\\\n5) $(|\\\\mathbf{0}>_3 + |\\\\mathbf{2}>_3 - |\\\\mathbf{4}>_3 + |\\\\mathbf{6}>_3)/\\\\sqrt{4}$ \\\\\\\\\\n6) нет правильного ответа \\\\\\\\\\n',\n",
       " 'Без метастабильных состояний создать квантовый генератор на атомах нельзя \\\\\\\\\\n1)Верно \\\\\\\\\\n2)Неверно \\\\\\\\ \\n',\n",
       " 'отметьте правильный ответ для дейтсвия операторов $W^{(3)}CCNOT_{1, 2, 3}W^{(3)}$ на трёхкубитовое базисное состояние $|\\\\mathbf{7}>_3$ \\\\\\\\\\n1) $(|\\\\mathbf{0}>_3 + |\\\\mathbf{7}>_3)/\\\\sqrt{2}$ \\\\\\\\\\n2) $(|\\\\mathbf{0}>_3 - |\\\\mathbf{7}>_3)/\\\\sqrt{2}$ \\\\\\\\\\n3) $|\\\\mathbf{0}>_3$ \\\\\\\\\\n4) $(-|\\\\mathbf{1}>_3 + |\\\\mathbf{3}>_3 + |\\\\mathbf{5}>_3 + |\\\\mathbf{7}>_3)/2$ \\\\\\\\\\n5) $(|\\\\mathbf{0}>_3 + |\\\\mathbf{2}>_3 + |\\\\mathbf{4}>_3 + |\\\\mathbf{6}>_3)/2$ \\\\\\\\\\n6) $|\\\\mathbf{7}>_3$ \\\\\\\\\\n7) $(|\\\\mathbf{0}>_3 - |\\\\mathbf{1}>_3 + |\\\\mathbf{2}>_3 - |\\\\mathbf{3}>_3 + |\\\\mathbf{4}>_3 - |\\\\mathbf{5}>_3 + |\\\\mathbf{6}>_3 - |\\\\mathbf{7}>_3)/\\\\sqrt{8}$ \\\\\\\\\\n8) $(|\\\\mathbf{1}>_3 + |\\\\mathbf{3}>_3 + |\\\\mathbf{5}>_3 - |\\\\mathbf{7}>_3)/2$ \\\\\\\\\\n',\n",
       " 'Какова вероятность изсерения состояния |0> в трёхкубитовом регистре вида $(-|\\\\mathbf{1}>_3 + |\\\\mathbf{3}>_3 - |\\\\mathbf{5}>_3 + |\\\\mathbf{7}>_3)/2$. Ответ -- десятичное число. \\\\\\\\\\n',\n",
       " 'Каким выражением определяется действие однокубитовых операторов $\\\\hat{X}, \\\\hat{Y}, \\\\hat{Z}, \\\\hat{S}, \\\\hat{T}$ на кубит $|q> = \\\\alpha|0> + \\\\beta|1>$ ? \\\\\\\\\\n1) $\\\\hat{X}|q> = $ \\\\\\\\\\n2) $\\\\hat{Y}|q> = $ \\\\\\\\\\n3) $\\\\hat{Z}|q> = $ \\\\\\\\\\n4) $\\\\hat{S}|q> = $ \\\\\\\\\\n5) $\\\\hat{T}|q> = $ \\\\\\\\\\n',\n",
       " ' Чему равно действие оператора $R_y$ на кубит $a|0> + b|1>$ при значении $\\\\theta = \\\\pi$ ?\\\\\\\\\\n1) -b|0> + a|1> \\\\\\\\\\n2) b|0> + a|1> \\\\\\\\\\n3) нет правильного ответа \\\\\\\\\\n4) -a|0> + b|1> \\\\\\\\\\n',\n",
       " ' На кубит |q> = 0.6|0> + 0.8|1> действует оператор $R_x(\\\\theta).$ Какова вероятность измерения состояния |0> после действия $R_x(\\\\theta)$ при $\\\\theta = \\\\frac{\\\\pi}{2}$? ответ -- десятичное число, максимум две цифры после десятичной точки (допустимая точность 0.001) \\\\\\\\\\n',\n",
       " ' Чему равно действие оператора $R_x$ на состояние |0> при значении $\\\\theta = \\\\pi/2$ ? \\\\\\\\\\n1) -i|1> \\\\\\\\\\n2) i|1> \\\\\\\\\\n3) |1> \\\\\\\\\\n4) |1> \\\\\\\\\\n5) |0> \\\\\\\\\\n6) нет правильного ответа \\\\\\\\\\n',\n",
       " ' Отметить состояния тонкой структуры атома водорода в которые может перейти атом при резонансном поглощении одного фотона, если начальное состояние атома было $3p_{3/2}$ \\\\\\\\\\n1) $4d_{3/2}$ \\\\\\\\\\n2) $4s_{1/2}$ \\\\\\\\\\n3) $4s_{3/2}$ \\\\\\\\\\n4) $4f_{5/2}$ \\\\\\\\\\n5) $3d_{5/2}$ \\\\\\\\\\n6) $4d_{5/2}$ \\\\\\\\\\n',\n",
       " ' Какие переменные входят в полный набор (для определения состояния) свободной частицы ? \\\\\\\\\\n1)импульс и координата \\\\\\\\\\n2) энергия и время \\\\\\\\\\n3) координата \\\\\\\\\\n4) энергия и координата \\\\\\\\\\n5) импульс, координата, энергия и время да \\\\\\\\\\n6) импульс \\\\\\\\\\n7) импульс и время \\\\\\\\\\n8) координата и время \\\\\\\\\\n',\n",
       " ' Скольок различных уровней энергии в тонкой структуре атома водорода при значении главного квантового числа равного 5? \\\\\\\\\\n',\n",
       " ' Собственный момент импульса элементарных частиц - это ... \\\\\\\\\\n1) Квант \\\\\\\\\\n2) Орибталь \\\\\\\\\\n3) Спин \\\\\\\\\\n',\n",
       " ' Отметьте верный утверждения для линейных и эрмитовых операторов \\\\\\\\\\n1) собственные функции - действительные функции \\\\\\\\\\n2) собственные функции образуют полный набор \\\\\\\\\\n3) собственные числа образуют ограниченное множество упорядоченных чисел \\\\\\\\\\n4) собственные функции ортонормированы \\\\\\\\\\n5) собственные числа образуют эквидистантный набор \\\\\\\\\\n6) собственные значения - действительные числа \\\\\\\\\\n7) собственные функции коммутирующих операторов одинаковы \\\\\\\\\\n',\n",
       " ' Чему равна сумма $\\\\sum_n|n><n|$, если $|n>$ - базис ? \\\\\\\\\\n1) $\\\\infty$ \\\\\\\\\\n2) дельта символ Кронекера \\\\\\\\\\n3) 1 \\\\\\\\\\n4) нельзя так составить сумму \\\\\\\\\\n5) дельта функция Дирака \\\\\\\\\\n',\n",
       " ' Волновая функция или функция состояния дает возможность ... \\\\\\\\\\nВыберите один ответ: \\\\\\\\\\n1) описать законы квантовой теории \\\\\\\\\\n2) получить информацию о значении энергии частицы \\\\\\\\\\n3) предсказать значения измеряемых величин, которые будут наблюдаться на опыте и с какой вероятностью \\\\\\\\\\n4) описать закон движения частицы \\\\\\\\\\n5) получить информацию о значении координат и импульса частицы \\\\\\\\\\n',\n",
       " ' Что такое магнитный спиновый момент ? \\\\\\\\\\n1)векторное свойство ряда элементарных частиц, направленное по направлению их спина \\\\\\\\\\n2)векторное свойство ряда элементарных частиц, направленное против их спина \\\\\\\\\\n3) Магнит запутанный со спином \\\\\\\\\\n4) тоже, что и спин частицы \\\\\\\\\\n',\n",
       " ' Сверхтонкое расщепление основного состояния атома водорода отсутсвует \\\\\\\\\\n1)Верно \\\\\\\\\\n2)Неверно \\\\\\\\\\n',\n",
       " ' Чему равна сумма квадратов матриц Паули $\\\\sigma_x^2 + \\\\sigma_y^2$. Введите значение \\\\\\\\',\n",
       " ' \\nОтвет 2 \\\\\\\\']"
      ]
     },
     "execution_count": 11,
     "metadata": {},
     "output_type": "execute_result"
    }
   ],
   "source": [
    "test_q"
   ]
  },
  {
   "cell_type": "code",
   "execution_count": 12,
   "metadata": {},
   "outputs": [],
   "source": [
    "import json\n",
    "feed = [{'question': q, 'answer': a} for q, a in zip(test_q, test_a)]\n",
    "\n",
    "json.dump(feed, open('./test.json', 'w', encoding='utf-8'), indent=2, ensure_ascii=False)"
   ]
  },
  {
   "cell_type": "code",
   "execution_count": null,
   "metadata": {},
   "outputs": [],
   "source": []
  }
 ],
 "metadata": {
  "kernelspec": {
   "display_name": "Python 3",
   "language": "python",
   "name": "python3"
  },
  "language_info": {
   "codemirror_mode": {
    "name": "ipython",
    "version": 3
   },
   "file_extension": ".py",
   "mimetype": "text/x-python",
   "name": "python",
   "nbconvert_exporter": "python",
   "pygments_lexer": "ipython3",
   "version": "3.12.0"
  }
 },
 "nbformat": 4,
 "nbformat_minor": 2
}
