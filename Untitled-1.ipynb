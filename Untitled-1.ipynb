{
 "cells": [
  {
   "cell_type": "code",
   "execution_count": 2,
   "metadata": {},
   "outputs": [],
   "source": [
    "from PyPDF2 import PdfMerger\n",
    "import os\n",
    "merge = PdfMerger()"
   ]
  },
  {
   "cell_type": "code",
   "execution_count": 5,
   "metadata": {},
   "outputs": [],
   "source": [
    "files = os.listdir('./')"
   ]
  },
  {
   "cell_type": "code",
   "execution_count": 6,
   "metadata": {},
   "outputs": [
    {
     "data": {
      "text/plain": [
       "['005979fa741c3ea2e0430456b70caf93_MIT8_05F13_Chap_05.pdf',\n",
       " '01b09433137651bedbbfe4f039b0c5be_MIT8_04S16_LecNotes10.pdf',\n",
       " '04b0570b349e84d74129eef504498472_MIT8_05F13_Chap_03.pdf',\n",
       " '0c07cbdc9c352c39eb9539b31ded90d7_MIT8_04S16_LecNotes4.pdf',\n",
       " '3b4ee73bda5abd93cbb2a89ae9b6765b_MIT8_04S16_LecNotes14_15.pdf',\n",
       " '4de6d044fa9d7e5b8998c5f8ca984a42_MIT8_05F13_Chap_04.pdf',\n",
       " '61bc31b8d8bf0680c322733910a71aa0_MIT8_05F13_Chap_01.pdf',\n",
       " '7c376a3b5b27e5ea586a7e37b85a05d3_MIT8_05F13_Chap_07.pdf',\n",
       " '7f930e013cef9cd7dec5aa88baa83f0a_MIT8_04S16_LecNotes1.pdf',\n",
       " 'a56c316e4ec548d8bd0a554fac9a74e8_MIT8_05F13_Chap_02.pdf',\n",
       " 'afaef4b8271759d352ac75c4e85eaee6_MIT8_04S16_LecNotes2.pdf',\n",
       " 'd87c768c4e1181fde8d4366112169719_MIT8_04S16_LecNotes6.pdf',\n",
       " 'e34ceed6a6ec944a3c761fcbbf48be5f_MIT8_04S16_LecNotes22.pdf',\n",
       " 'e765f050b2fd50a9d87d2ae801e9c52f_MIT8_05F13_Chap_09.pdf',\n",
       " 'f928b8dce3d6a218fddda9617c5eb4f2_MIT8_04S16_LecNotes3.pdf',\n",
       " 'ffe665c0cba2eae19a83e88dec42925c_MIT8_05F13_Chap_08.pdf',\n",
       " 'Peter Lee - Quantum Computing and Information - 2024.pdf',\n",
       " 'да.pdf']"
      ]
     },
     "execution_count": 6,
     "metadata": {},
     "output_type": "execute_result"
    }
   ],
   "source": [
    "files"
   ]
  },
  {
   "cell_type": "code",
   "execution_count": 7,
   "metadata": {},
   "outputs": [],
   "source": [
    "for file in files:\n",
    "    merge.append(file)\n",
    "merge.write('merged.pdf')"
   ]
  },
  {
   "cell_type": "code",
   "execution_count": 9,
   "metadata": {},
   "outputs": [],
   "source": [
    "from PyPDF2 import PdfReader\n",
    "reader = PdfReader('merged.pdf')"
   ]
  },
  {
   "cell_type": "code",
   "execution_count": 10,
   "metadata": {},
   "outputs": [],
   "source": [
    "extracted_text = \"\"\n",
    "for page in reader.pages:\n",
    "    extracted_text += page.extract_text()"
   ]
  },
  {
   "cell_type": "code",
   "execution_count": null,
   "metadata": {},
   "outputs": [
    {
     "name": "stdout",
     "output_type": "stream",
     "text": [
      "page 0 of ./a/asnw.pdf\n",
      "page 1 of ./a/asnw.pdf\n",
      "page 2 of ./a/asnw.pdf\n",
      "page 3 of ./a/asnw.pdf\n",
      "page 4 of ./a/asnw.pdf\n",
      "page 5 of ./a/asnw.pdf\n",
      "page 6 of ./a/asnw.pdf\n",
      "page 7 of ./a/asnw.pdf\n",
      "page 8 of ./a/asnw.pdf\n",
      "page 9 of ./a/asnw.pdf\n",
      "page 10 of ./a/asnw.pdf\n",
      "page 11 of ./a/asnw.pdf\n",
      "Text extracted and saved to ./a/asnw_text.txt\n"
     ]
    }
   ],
   "source": [
    "import fitz\n",
    "\n",
    "pdf_path = \"./a/asnw.pdf\"\n",
    "\n",
    "pdf_document = fitz.open(pdf_path)\n",
    "\n",
    "output_file = \"./a/asnw_text.txt\"\n",
    "with open(output_file, \"w\", encoding=\"utf-8\") as file:\n",
    "    for page_number in range(len(pdf_document)):\n",
    "        page = pdf_document[page_number]\n",
    "        text = page.get_text(\"text\")\n",
    "        file.write(text)\n",
    "        file.write(\"\\n\\n\")\n",
    "\n",
    "print(f\"Text extracted and saved to {output_file}\")"
   ]
  },
  {
   "cell_type": "code",
   "execution_count": 12,
   "metadata": {},
   "outputs": [
    {
     "name": "stderr",
     "output_type": "stream",
     "text": [
      "Xref table not zero-indexed. ID numbers for objects will be corrected.\n",
      "Xref table not zero-indexed. ID numbers for objects will be corrected.\n",
      "Xref table not zero-indexed. ID numbers for objects will be corrected.\n"
     ]
    }
   ],
   "source": [
    "merge = PdfMerger('./a')\n",
    "files = os.listdir('./a')\n",
    "for file in files:\n",
    "    merge.append('./a/' + file)\n",
    "merge.write('./a/' + 'asnw.pdf')"
   ]
  },
  {
   "cell_type": "code",
   "execution_count": 3,
   "metadata": {},
   "outputs": [],
   "source": [
    "import pytesseract\n",
    "from PIL import Image\n",
    "\n",
    "def ocr_extract_text_from_image(image_path):\n",
    "    img = Image.open(image_path)\n",
    "    text = pytesseract.image_to_string(img)\n",
    "    return text"
   ]
  },
  {
   "cell_type": "code",
   "execution_count": 23,
   "metadata": {},
   "outputs": [
    {
     "data": {
      "text/plain": [
       "90"
      ]
     },
     "execution_count": 23,
     "metadata": {},
     "output_type": "execute_result"
    }
   ],
   "source": [
    "questions = []\n",
    "s = ''\n",
    "with open('./q/quest.txt', encoding='utf-8') as f:\n",
    "    for line in f:\n",
    "        if line != '\\n':\n",
    "            s += line\n",
    "        else:\n",
    "            questions.append(s[3:])\n",
    "            s = ''\n",
    "questions.append(s[3:])\n",
    "len(questions)"
   ]
  },
  {
   "cell_type": "code",
   "execution_count": 2,
   "metadata": {},
   "outputs": [
    {
     "data": {
      "application/vnd.jupyter.widget-view+json": {
       "model_id": "c7d47a9fe17342f09e7d039ee9fd1afd",
       "version_major": 2,
       "version_minor": 0
      },
      "text/plain": [
       "README.md:   0%|          | 0.00/473 [00:00<?, ?B/s]"
      ]
     },
     "metadata": {},
     "output_type": "display_data"
    },
    {
     "name": "stderr",
     "output_type": "stream",
     "text": [
      "c:\\Users\\danil\\AppData\\Local\\Programs\\Python\\Python312\\Lib\\site-packages\\huggingface_hub\\file_download.py:139: UserWarning: `huggingface_hub` cache-system uses symlinks by default to efficiently store duplicated files but your machine does not support them in C:\\Users\\danil\\.cache\\huggingface\\hub\\datasets--jilp00--YouToks-Instruct-Quantum-Physics-I. Caching files will still work but in a degraded version that might require more space on your disk. This warning can be disabled by setting the `HF_HUB_DISABLE_SYMLINKS_WARNING` environment variable. For more details, see https://huggingface.co/docs/huggingface_hub/how-to-cache#limitations.\n",
      "To support symlinks on Windows, you either need to activate Developer Mode or to run Python as an administrator. In order to activate developer mode, see this article: https://docs.microsoft.com/en-us/windows/apps/get-started/enable-your-device-for-development\n",
      "  warnings.warn(message)\n"
     ]
    },
    {
     "data": {
      "application/vnd.jupyter.widget-view+json": {
       "model_id": "8dd70133d371423b9cbf6aeecc7e368a",
       "version_major": 2,
       "version_minor": 0
      },
      "text/plain": [
       "train-00000-of-00001.parquet:   0%|          | 0.00/1.12M [00:00<?, ?B/s]"
      ]
     },
     "metadata": {},
     "output_type": "display_data"
    },
    {
     "data": {
      "application/vnd.jupyter.widget-view+json": {
       "model_id": "9f979f082faa420185f72902f6242f42",
       "version_major": 2,
       "version_minor": 0
      },
      "text/plain": [
       "Generating train split:   0%|          | 0/942 [00:00<?, ? examples/s]"
      ]
     },
     "metadata": {},
     "output_type": "display_data"
    },
    {
     "data": {
      "application/vnd.jupyter.widget-view+json": {
       "model_id": "508da665604142b2855d25b88ed10280",
       "version_major": 2,
       "version_minor": 0
      },
      "text/plain": [
       "README.md:   0%|          | 0.00/473 [00:00<?, ?B/s]"
      ]
     },
     "metadata": {},
     "output_type": "display_data"
    },
    {
     "name": "stderr",
     "output_type": "stream",
     "text": [
      "c:\\Users\\danil\\AppData\\Local\\Programs\\Python\\Python312\\Lib\\site-packages\\huggingface_hub\\file_download.py:139: UserWarning: `huggingface_hub` cache-system uses symlinks by default to efficiently store duplicated files but your machine does not support them in C:\\Users\\danil\\.cache\\huggingface\\hub\\datasets--jilp00--YouToks-Instruct-Quantum-Physics-II. Caching files will still work but in a degraded version that might require more space on your disk. This warning can be disabled by setting the `HF_HUB_DISABLE_SYMLINKS_WARNING` environment variable. For more details, see https://huggingface.co/docs/huggingface_hub/how-to-cache#limitations.\n",
      "To support symlinks on Windows, you either need to activate Developer Mode or to run Python as an administrator. In order to activate developer mode, see this article: https://docs.microsoft.com/en-us/windows/apps/get-started/enable-your-device-for-development\n",
      "  warnings.warn(message)\n"
     ]
    },
    {
     "data": {
      "application/vnd.jupyter.widget-view+json": {
       "model_id": "36600677293348cc92b6c8b5cc0cc1ae",
       "version_major": 2,
       "version_minor": 0
      },
      "text/plain": [
       "train-00000-of-00001.parquet:   0%|          | 0.00/981k [00:00<?, ?B/s]"
      ]
     },
     "metadata": {},
     "output_type": "display_data"
    },
    {
     "data": {
      "application/vnd.jupyter.widget-view+json": {
       "model_id": "53dff7bf189345f586b023c21da35d5e",
       "version_major": 2,
       "version_minor": 0
      },
      "text/plain": [
       "Generating train split:   0%|          | 0/1042 [00:00<?, ? examples/s]"
      ]
     },
     "metadata": {},
     "output_type": "display_data"
    },
    {
     "data": {
      "application/vnd.jupyter.widget-view+json": {
       "model_id": "b060fdbf75fc431a80db7f6db327f75d",
       "version_major": 2,
       "version_minor": 0
      },
      "text/plain": [
       "README.md:   0%|          | 0.00/429 [00:00<?, ?B/s]"
      ]
     },
     "metadata": {},
     "output_type": "display_data"
    },
    {
     "name": "stderr",
     "output_type": "stream",
     "text": [
      "c:\\Users\\danil\\AppData\\Local\\Programs\\Python\\Python312\\Lib\\site-packages\\huggingface_hub\\file_download.py:139: UserWarning: `huggingface_hub` cache-system uses symlinks by default to efficiently store duplicated files but your machine does not support them in C:\\Users\\danil\\.cache\\huggingface\\hub\\datasets--jilp00--YouToks-Instruct-Quantum-Physics-III. Caching files will still work but in a degraded version that might require more space on your disk. This warning can be disabled by setting the `HF_HUB_DISABLE_SYMLINKS_WARNING` environment variable. For more details, see https://huggingface.co/docs/huggingface_hub/how-to-cache#limitations.\n",
      "To support symlinks on Windows, you either need to activate Developer Mode or to run Python as an administrator. In order to activate developer mode, see this article: https://docs.microsoft.com/en-us/windows/apps/get-started/enable-your-device-for-development\n",
      "  warnings.warn(message)\n"
     ]
    },
    {
     "data": {
      "application/vnd.jupyter.widget-view+json": {
       "model_id": "2860914927314fa4a01b36c1fa7c5475",
       "version_major": 2,
       "version_minor": 0
      },
      "text/plain": [
       "train-00000-of-00001.parquet:   0%|          | 0.00/1.02M [00:00<?, ?B/s]"
      ]
     },
     "metadata": {},
     "output_type": "display_data"
    },
    {
     "data": {
      "application/vnd.jupyter.widget-view+json": {
       "model_id": "63d718ffcf894b69a6383565544d7d3b",
       "version_major": 2,
       "version_minor": 0
      },
      "text/plain": [
       "Generating train split:   0%|          | 0/1125 [00:00<?, ? examples/s]"
      ]
     },
     "metadata": {},
     "output_type": "display_data"
    }
   ],
   "source": [
    "from datasets import load_dataset\n",
    "\n",
    "ds1 = load_dataset(\"jilp00/YouToks-Instruct-Quantum-Physics-I\")\n",
    "ds2 = load_dataset(\"jilp00/YouToks-Instruct-Quantum-Physics-II\")\n",
    "ds3 = load_dataset(\"jilp00/YouToks-Instruct-Quantum-Physics-III\")"
   ]
  },
  {
   "cell_type": "code",
   "execution_count": 27,
   "metadata": {},
   "outputs": [],
   "source": [
    "questions.extend(ds1['train']['question'])\n",
    "questions.extend(ds2['train']['question'])\n",
    "questions.extend(ds3['train']['question'])"
   ]
  },
  {
   "cell_type": "code",
   "execution_count": 24,
   "metadata": {},
   "outputs": [
    {
     "data": {
      "text/plain": [
       "90"
      ]
     },
     "execution_count": 24,
     "metadata": {},
     "output_type": "execute_result"
    }
   ],
   "source": [
    "answers = []\n",
    "st = ''\n",
    "with open('./a/asnw_text.txt', encoding='utf-8') as f:\n",
    "    for line in f:\n",
    "        if line != '\\n':\n",
    "            st += line\n",
    "        else:\n",
    "            answers.append(st[3:])\n",
    "            st = ''\n",
    "answers.append(st[3:])\n",
    "len(answers)"
   ]
  },
  {
   "cell_type": "code",
   "execution_count": 28,
   "metadata": {},
   "outputs": [],
   "source": [
    "answers.extend(ds1['train']['response'])\n",
    "answers.extend(ds2['train']['response'])\n",
    "answers.extend(ds3['train']['response'])"
   ]
  },
  {
   "cell_type": "code",
   "execution_count": 29,
   "metadata": {},
   "outputs": [],
   "source": [
    "import json\n",
    "\n",
    "qa = [{'question': questions[i], 'answer': answers[i]} for i in range(len(questions))]\n",
    "# for q in qa:\n",
    "#     json.dump('./qa.json',q)\n",
    "json.dump(qa, open('./qa.json', 'w', encoding='utf-8'), indent=2, ensure_ascii=False)"
   ]
  },
  {
   "cell_type": "code",
   "execution_count": 25,
   "metadata": {},
   "outputs": [
    {
     "data": {
      "text/plain": [
       "(942, 1042, 1125)"
      ]
     },
     "execution_count": 25,
     "metadata": {},
     "output_type": "execute_result"
    }
   ],
   "source": [
    "len(ds1['train']['question']), len(ds2['train']['question']), len(ds3['train']['question'])"
   ]
  },
  {
   "cell_type": "code",
   "execution_count": 26,
   "metadata": {},
   "outputs": [
    {
     "data": {
      "text/plain": [
       "(942, 1042, 1125)"
      ]
     },
     "execution_count": 26,
     "metadata": {},
     "output_type": "execute_result"
    }
   ],
   "source": [
    "len(ds1['train']['response']), len(ds2['train']['response']), len(ds3['train']['response'])"
   ]
  },
  {
   "cell_type": "code",
   "execution_count": null,
   "metadata": {},
   "outputs": [],
   "source": []
  }
 ],
 "metadata": {
  "kernelspec": {
   "display_name": "Python 3",
   "language": "python",
   "name": "python3"
  },
  "language_info": {
   "codemirror_mode": {
    "name": "ipython",
    "version": 3
   },
   "file_extension": ".py",
   "mimetype": "text/x-python",
   "name": "python",
   "nbconvert_exporter": "python",
   "pygments_lexer": "ipython3",
   "version": "3.12.0"
  }
 },
 "nbformat": 4,
 "nbformat_minor": 2
}
